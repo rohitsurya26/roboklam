{
  "nbformat": 4,
  "nbformat_minor": 0,
  "metadata": {
    "colab": {
      "name": "Rohit_Suryavanshi.ipynb",
      "provenance": [],
      "collapsed_sections": []
    },
    "kernelspec": {
      "name": "python3",
      "display_name": "Python 3"
    },
    "language_info": {
      "name": "python"
    },
    "accelerator": "GPU"
  },
  "cells": [
    {
      "cell_type": "markdown",
      "source": [
        "#RoboKlam AI/ML Assignment - Problem 1\n",
        "###By Rohit Suryavanshi\t\n",
        "###Email: rohitsurya7777@gmail.com\tPhone no. : 8291942333\n"
      ],
      "metadata": {
        "id": "FexX-PLEL3AX"
      }
    },
    {
      "cell_type": "code",
      "execution_count": 1,
      "metadata": {
        "id": "Z0RKeIhzyIvY"
      },
      "outputs": [],
      "source": [
        "import pandas as pd\n",
        "import numpy as np\n",
        "import seaborn as sb\n",
        "import matplotlib.pyplot as plt"
      ]
    },
    {
      "cell_type": "markdown",
      "source": [
        "### Importing from Github link : https://github.com/rohitsurya26/roboklam , it is made public\n",
        "### Drive link: https://drive.google.com/drive/folders/16w2K3jzhhKJ-EA_uq2wTDyuXJfHKgai2?usp=sharing Contains both answers to the assignment, and jupyter notebook is in Google Colab notebook "
      ],
      "metadata": {
        "id": "TygrofOfITnz"
      }
    },
    {
      "cell_type": "code",
      "source": [
        "## Importing from Github link : https://github.com/rohitsurya26/roboklam , it is made public\n",
        "df=pd.read_csv('https://raw.githubusercontent.com/rohitsurya26/roboklam/main/HR_comma_sep.csv')"
      ],
      "metadata": {
        "id": "rTBi9XcFyQ7K"
      },
      "execution_count": 26,
      "outputs": []
    },
    {
      "cell_type": "code",
      "source": [
        "df.head()"
      ],
      "metadata": {
        "colab": {
          "base_uri": "https://localhost:8080/",
          "height": 206
        },
        "id": "nMciy6YSylpt",
        "outputId": "fa4f3039-7a7d-4151-f0a3-7aa49960322d"
      },
      "execution_count": 27,
      "outputs": [
        {
          "output_type": "execute_result",
          "data": {
            "text/plain": [
              "   last_evaluation  number_project  average_montly_hours  time_spend_company  \\\n",
              "0             0.53               2                   157                   3   \n",
              "1             0.86               5                   262                   6   \n",
              "2             0.88               7                   272                   4   \n",
              "3             0.87               5                   223                   5   \n",
              "4             0.52               2                   159                   3   \n",
              "\n",
              "   Work_accident  satisfaction_level  left  promotion_last_5years   role  \\\n",
              "0              0                0.38     1                      0  sales   \n",
              "1              0                0.80     1                      0  sales   \n",
              "2              0                0.11     1                      0  sales   \n",
              "3              0                0.72     1                      0  sales   \n",
              "4              0                0.37     1                      0  sales   \n",
              "\n",
              "   salary  \n",
              "0     low  \n",
              "1  medium  \n",
              "2  medium  \n",
              "3     low  \n",
              "4     low  "
            ],
            "text/html": [
              "\n",
              "  <div id=\"df-471c7df7-fa0f-4599-bb82-86eb390ea442\">\n",
              "    <div class=\"colab-df-container\">\n",
              "      <div>\n",
              "<style scoped>\n",
              "    .dataframe tbody tr th:only-of-type {\n",
              "        vertical-align: middle;\n",
              "    }\n",
              "\n",
              "    .dataframe tbody tr th {\n",
              "        vertical-align: top;\n",
              "    }\n",
              "\n",
              "    .dataframe thead th {\n",
              "        text-align: right;\n",
              "    }\n",
              "</style>\n",
              "<table border=\"1\" class=\"dataframe\">\n",
              "  <thead>\n",
              "    <tr style=\"text-align: right;\">\n",
              "      <th></th>\n",
              "      <th>last_evaluation</th>\n",
              "      <th>number_project</th>\n",
              "      <th>average_montly_hours</th>\n",
              "      <th>time_spend_company</th>\n",
              "      <th>Work_accident</th>\n",
              "      <th>satisfaction_level</th>\n",
              "      <th>left</th>\n",
              "      <th>promotion_last_5years</th>\n",
              "      <th>role</th>\n",
              "      <th>salary</th>\n",
              "    </tr>\n",
              "  </thead>\n",
              "  <tbody>\n",
              "    <tr>\n",
              "      <th>0</th>\n",
              "      <td>0.53</td>\n",
              "      <td>2</td>\n",
              "      <td>157</td>\n",
              "      <td>3</td>\n",
              "      <td>0</td>\n",
              "      <td>0.38</td>\n",
              "      <td>1</td>\n",
              "      <td>0</td>\n",
              "      <td>sales</td>\n",
              "      <td>low</td>\n",
              "    </tr>\n",
              "    <tr>\n",
              "      <th>1</th>\n",
              "      <td>0.86</td>\n",
              "      <td>5</td>\n",
              "      <td>262</td>\n",
              "      <td>6</td>\n",
              "      <td>0</td>\n",
              "      <td>0.80</td>\n",
              "      <td>1</td>\n",
              "      <td>0</td>\n",
              "      <td>sales</td>\n",
              "      <td>medium</td>\n",
              "    </tr>\n",
              "    <tr>\n",
              "      <th>2</th>\n",
              "      <td>0.88</td>\n",
              "      <td>7</td>\n",
              "      <td>272</td>\n",
              "      <td>4</td>\n",
              "      <td>0</td>\n",
              "      <td>0.11</td>\n",
              "      <td>1</td>\n",
              "      <td>0</td>\n",
              "      <td>sales</td>\n",
              "      <td>medium</td>\n",
              "    </tr>\n",
              "    <tr>\n",
              "      <th>3</th>\n",
              "      <td>0.87</td>\n",
              "      <td>5</td>\n",
              "      <td>223</td>\n",
              "      <td>5</td>\n",
              "      <td>0</td>\n",
              "      <td>0.72</td>\n",
              "      <td>1</td>\n",
              "      <td>0</td>\n",
              "      <td>sales</td>\n",
              "      <td>low</td>\n",
              "    </tr>\n",
              "    <tr>\n",
              "      <th>4</th>\n",
              "      <td>0.52</td>\n",
              "      <td>2</td>\n",
              "      <td>159</td>\n",
              "      <td>3</td>\n",
              "      <td>0</td>\n",
              "      <td>0.37</td>\n",
              "      <td>1</td>\n",
              "      <td>0</td>\n",
              "      <td>sales</td>\n",
              "      <td>low</td>\n",
              "    </tr>\n",
              "  </tbody>\n",
              "</table>\n",
              "</div>\n",
              "      <button class=\"colab-df-convert\" onclick=\"convertToInteractive('df-471c7df7-fa0f-4599-bb82-86eb390ea442')\"\n",
              "              title=\"Convert this dataframe to an interactive table.\"\n",
              "              style=\"display:none;\">\n",
              "        \n",
              "  <svg xmlns=\"http://www.w3.org/2000/svg\" height=\"24px\"viewBox=\"0 0 24 24\"\n",
              "       width=\"24px\">\n",
              "    <path d=\"M0 0h24v24H0V0z\" fill=\"none\"/>\n",
              "    <path d=\"M18.56 5.44l.94 2.06.94-2.06 2.06-.94-2.06-.94-.94-2.06-.94 2.06-2.06.94zm-11 1L8.5 8.5l.94-2.06 2.06-.94-2.06-.94L8.5 2.5l-.94 2.06-2.06.94zm10 10l.94 2.06.94-2.06 2.06-.94-2.06-.94-.94-2.06-.94 2.06-2.06.94z\"/><path d=\"M17.41 7.96l-1.37-1.37c-.4-.4-.92-.59-1.43-.59-.52 0-1.04.2-1.43.59L10.3 9.45l-7.72 7.72c-.78.78-.78 2.05 0 2.83L4 21.41c.39.39.9.59 1.41.59.51 0 1.02-.2 1.41-.59l7.78-7.78 2.81-2.81c.8-.78.8-2.07 0-2.86zM5.41 20L4 18.59l7.72-7.72 1.47 1.35L5.41 20z\"/>\n",
              "  </svg>\n",
              "      </button>\n",
              "      \n",
              "  <style>\n",
              "    .colab-df-container {\n",
              "      display:flex;\n",
              "      flex-wrap:wrap;\n",
              "      gap: 12px;\n",
              "    }\n",
              "\n",
              "    .colab-df-convert {\n",
              "      background-color: #E8F0FE;\n",
              "      border: none;\n",
              "      border-radius: 50%;\n",
              "      cursor: pointer;\n",
              "      display: none;\n",
              "      fill: #1967D2;\n",
              "      height: 32px;\n",
              "      padding: 0 0 0 0;\n",
              "      width: 32px;\n",
              "    }\n",
              "\n",
              "    .colab-df-convert:hover {\n",
              "      background-color: #E2EBFA;\n",
              "      box-shadow: 0px 1px 2px rgba(60, 64, 67, 0.3), 0px 1px 3px 1px rgba(60, 64, 67, 0.15);\n",
              "      fill: #174EA6;\n",
              "    }\n",
              "\n",
              "    [theme=dark] .colab-df-convert {\n",
              "      background-color: #3B4455;\n",
              "      fill: #D2E3FC;\n",
              "    }\n",
              "\n",
              "    [theme=dark] .colab-df-convert:hover {\n",
              "      background-color: #434B5C;\n",
              "      box-shadow: 0px 1px 3px 1px rgba(0, 0, 0, 0.15);\n",
              "      filter: drop-shadow(0px 1px 2px rgba(0, 0, 0, 0.3));\n",
              "      fill: #FFFFFF;\n",
              "    }\n",
              "  </style>\n",
              "\n",
              "      <script>\n",
              "        const buttonEl =\n",
              "          document.querySelector('#df-471c7df7-fa0f-4599-bb82-86eb390ea442 button.colab-df-convert');\n",
              "        buttonEl.style.display =\n",
              "          google.colab.kernel.accessAllowed ? 'block' : 'none';\n",
              "\n",
              "        async function convertToInteractive(key) {\n",
              "          const element = document.querySelector('#df-471c7df7-fa0f-4599-bb82-86eb390ea442');\n",
              "          const dataTable =\n",
              "            await google.colab.kernel.invokeFunction('convertToInteractive',\n",
              "                                                     [key], {});\n",
              "          if (!dataTable) return;\n",
              "\n",
              "          const docLinkHtml = 'Like what you see? Visit the ' +\n",
              "            '<a target=\"_blank\" href=https://colab.research.google.com/notebooks/data_table.ipynb>data table notebook</a>'\n",
              "            + ' to learn more about interactive tables.';\n",
              "          element.innerHTML = '';\n",
              "          dataTable['output_type'] = 'display_data';\n",
              "          await google.colab.output.renderOutput(dataTable, element);\n",
              "          const docLink = document.createElement('div');\n",
              "          docLink.innerHTML = docLinkHtml;\n",
              "          element.appendChild(docLink);\n",
              "        }\n",
              "      </script>\n",
              "    </div>\n",
              "  </div>\n",
              "  "
            ]
          },
          "metadata": {},
          "execution_count": 27
        }
      ]
    },
    {
      "cell_type": "markdown",
      "source": [
        "### Converting the categorical entries to integers using numpy : Known as One-Hot Encoding"
      ],
      "metadata": {
        "id": "Q2QJ5QVWGCQ0"
      }
    },
    {
      "cell_type": "code",
      "source": [
        "roles=df.role.unique()\n",
        "def role_to_num(role):\n",
        "    return np.where(roles==role)[0][0]\n",
        "\n",
        "salaries=df.salary.unique()\n",
        "def salary_to_num(salary):\n",
        "    return np.where(salary==salaries)[0][0]\n",
        "\n",
        "df['role']=df['role'].apply(role_to_num)\n",
        "df['salary']=df['salary'].apply(salary_to_num)"
      ],
      "metadata": {
        "id": "74499pPVynsL"
      },
      "execution_count": 4,
      "outputs": []
    },
    {
      "cell_type": "markdown",
      "source": [
        "### Identifyng whether the features used in the dataset are independent or not and removing if any were found to have high correlation values"
      ],
      "metadata": {
        "id": "zuQLfXDYGUQk"
      }
    },
    {
      "cell_type": "code",
      "source": [
        "print(df.corr())\n",
        "  \n",
        "# Plotting correlation heatmap\n",
        "dataplot = sb.heatmap(df.corr(), cmap=\"YlGnBu\", annot=True)"
      ],
      "metadata": {
        "colab": {
          "base_uri": "https://localhost:8080/",
          "height": 980
        },
        "id": "fvLTRNTBi9BQ",
        "outputId": "ffe680ae-ea50-470a-d5a5-e7bcf3406558"
      },
      "execution_count": 5,
      "outputs": [
        {
          "output_type": "stream",
          "name": "stdout",
          "text": [
            "                       last_evaluation  number_project  average_montly_hours  \\\n",
            "last_evaluation               1.000000        0.349333              0.339742   \n",
            "number_project                0.349333        1.000000              0.417211   \n",
            "average_montly_hours          0.339742        0.417211              1.000000   \n",
            "time_spend_company            0.131591        0.196786              0.127755   \n",
            "Work_accident                -0.007104       -0.004741             -0.010143   \n",
            "satisfaction_level            0.105021       -0.142970             -0.020048   \n",
            "left                          0.006567        0.023787              0.071287   \n",
            "promotion_last_5years        -0.008684       -0.006064             -0.003544   \n",
            "role                          0.011855        0.005577             -0.002387   \n",
            "salary                       -0.013002       -0.001803             -0.002242   \n",
            "\n",
            "                       time_spend_company  Work_accident  satisfaction_level  \\\n",
            "last_evaluation                  0.131591      -0.007104            0.105021   \n",
            "number_project                   0.196786      -0.004741           -0.142970   \n",
            "average_montly_hours             0.127755      -0.010143           -0.020048   \n",
            "time_spend_company               1.000000       0.002120           -0.100866   \n",
            "Work_accident                    0.002120       1.000000            0.058697   \n",
            "satisfaction_level              -0.100866       0.058697            1.000000   \n",
            "left                             0.144822      -0.154622           -0.388375   \n",
            "promotion_last_5years            0.067433       0.039245            0.025605   \n",
            "role                            -0.001611       0.019215            0.015413   \n",
            "salary                           0.048715       0.009247            0.050022   \n",
            "\n",
            "                           left  promotion_last_5years      role    salary  \n",
            "last_evaluation        0.006567              -0.008684  0.011855 -0.013002  \n",
            "number_project         0.023787              -0.006064  0.005577 -0.001803  \n",
            "average_montly_hours   0.071287              -0.003544 -0.002387 -0.002242  \n",
            "time_spend_company     0.144822               0.067433 -0.001611  0.048715  \n",
            "Work_accident         -0.154622               0.039245  0.019215  0.009247  \n",
            "satisfaction_level    -0.388375               0.025605  0.015413  0.050022  \n",
            "left                   1.000000              -0.061788 -0.043814 -0.157898  \n",
            "promotion_last_5years -0.061788               1.000000  0.015170  0.098119  \n",
            "role                  -0.043814               0.015170  1.000000  0.033415  \n",
            "salary                -0.157898               0.098119  0.033415  1.000000  \n"
          ]
        },
        {
          "output_type": "display_data",
          "data": {
            "text/plain": [
              "<Figure size 432x288 with 2 Axes>"
            ],
            "image/png": "[encoded data removed]"
          },
          "metadata": {
            "needs_background": "light"
          }
        }
      ]
    },
    {
      "cell_type": "code",
      "source": [
        "## Rearranging columns  \n",
        "cols = df.columns.tolist()\n",
        "cols.remove('left')\n",
        "cols.append('left')\n",
        "df=df[cols]"
      ],
      "metadata": {
        "id": "Nu-Xcwpk2Df5"
      },
      "execution_count": 25,
      "outputs": []
    },
    {
      "cell_type": "code",
      "source": [
        "## To make everything of same scale, divided this column by 100\n",
        "df['average_montly_hours']/100"
      ],
      "metadata": {
        "colab": {
          "base_uri": "https://localhost:8080/"
        },
        "id": "LJUjKINXf3ML",
        "outputId": "dbbf39d0-0d92-44f1-a229-a3edbc14525c"
      },
      "execution_count": 7,
      "outputs": [
        {
          "output_type": "execute_result",
          "data": {
            "text/plain": [
              "0        1.57\n",
              "1        2.62\n",
              "2        2.72\n",
              "3        2.23\n",
              "4        1.59\n",
              "         ... \n",
              "14994    1.51\n",
              "14995    1.60\n",
              "14996    1.43\n",
              "14997    2.80\n",
              "14998    1.58\n",
              "Name: average_montly_hours, Length: 14999, dtype: float64"
            ]
          },
          "metadata": {},
          "execution_count": 7
        }
      ]
    },
    {
      "cell_type": "markdown",
      "source": [
        "### Removing any Outliers present in the dataset for implementing a better model by replacing them with Null value and removing them"
      ],
      "metadata": {
        "id": "EmGY2QzGG9eV"
      }
    },
    {
      "cell_type": "code",
      "source": [
        "## Removing features which are categorical, binary and important features\n",
        "numeric_feature=list(df.columns)\n",
        "numeric_feature.pop(-1)\n",
        "numeric_feature.pop(-1)\n",
        "numeric_feature.pop(-1)\n",
        "numeric_feature.remove('Work_accident')\n",
        "numeric_feature.remove('time_spend_company')\n",
        "\n",
        "\n",
        "for x in numeric_feature:\n",
        "    q75,q25 = np.percentile(df.loc[:,x],[75,25])\n",
        "    intr_qr = q75-q25\n",
        "\n",
        "    max = q75+(1.5*intr_qr)\n",
        "    min = q25-(1.5*intr_qr)\n",
        "    ## Replacing outliers with null values\n",
        "    df.loc[df[x] < min,x] = np.nan\n",
        "    df.loc[df[x] > max,x] = np.nan"
      ],
      "metadata": {
        "colab": {
          "base_uri": "https://localhost:8080/"
        },
        "id": "fMyfIE92fN96",
        "outputId": "748bc892-c56e-4ec7-a882-b06c468f1387"
      },
      "execution_count": 8,
      "outputs": [
        {
          "output_type": "stream",
          "name": "stdout",
          "text": [
            "['last_evaluation', 'number_project', 'average_montly_hours', 'satisfaction_level', 'promotion_last_5years']\n"
          ]
        }
      ]
    },
    {
      "cell_type": "code",
      "source": [
        "## Removing the examples which where outliers and removing them null values\n",
        "print(df.isnull().sum())\n",
        "df = df[df['promotion_last_5years'].notna()]\n",
        "print(df.isnull().sum())"
      ],
      "metadata": {
        "colab": {
          "base_uri": "https://localhost:8080/"
        },
        "id": "XB_wmP6Yfs72",
        "outputId": "5e147b18-c4f1-4417-ded8-18026b88f3de"
      },
      "execution_count": 9,
      "outputs": [
        {
          "output_type": "stream",
          "name": "stdout",
          "text": [
            "last_evaluation            0\n",
            "number_project             0\n",
            "average_montly_hours       0\n",
            "time_spend_company         0\n",
            "Work_accident              0\n",
            "satisfaction_level         0\n",
            "promotion_last_5years    319\n",
            "role                       0\n",
            "salary                     0\n",
            "left                       0\n",
            "dtype: int64\n",
            "last_evaluation          0\n",
            "number_project           0\n",
            "average_montly_hours     0\n",
            "time_spend_company       0\n",
            "Work_accident            0\n",
            "satisfaction_level       0\n",
            "promotion_last_5years    0\n",
            "role                     0\n",
            "salary                   0\n",
            "left                     0\n",
            "dtype: int64\n"
          ]
        }
      ]
    },
    {
      "cell_type": "markdown",
      "source": [
        "### Stacking the training dataset into numpy matrix using stack function"
      ],
      "metadata": {
        "id": "mmZrWmDCIFUr"
      }
    },
    {
      "cell_type": "code",
      "source": [
        "cols=list(df.columns)\n",
        "cols.pop()\n",
        "X=np.column_stack((df[cols[0]].values,))\n",
        "for i in cols :\n",
        "    X=np.column_stack((X,df[i].values))\n",
        "Y=df['left'].to_numpy()"
      ],
      "metadata": {
        "id": "pwM5LKdi6bFf",
        "colab": {
          "base_uri": "https://localhost:8080/"
        },
        "outputId": "97c77679-b149-44c2-a038-bf7dbe05e71e"
      },
      "execution_count": 10,
      "outputs": [
        {
          "output_type": "stream",
          "name": "stdout",
          "text": [
            "[1 1 1 ... 1 1 1]\n"
          ]
        }
      ]
    },
    {
      "cell_type": "markdown",
      "source": [
        "### Applying Logistic Regression model onto the dataset "
      ],
      "metadata": {
        "id": "EyOP4SuEKOEh"
      }
    },
    {
      "cell_type": "code",
      "source": [
        "from sklearn.model_selection import train_test_split\n",
        "X_train,X_test,Y_train,Y_test=train_test_split(X,Y,test_size=0.25,random_state=0)\n",
        "\n",
        "from sklearn.linear_model import LogisticRegression\n",
        "clf = LogisticRegression(random_state=1).fit(X_train, Y_train)\n",
        "clf.predict(X_test)\n",
        "print(clf.score(X_test,Y_test))\n"
      ],
      "metadata": {
        "id": "YekpMaO40Pph",
        "colab": {
          "base_uri": "https://localhost:8080/"
        },
        "outputId": "ca385cdd-8e0d-457c-a0d3-69ab78431c57"
      },
      "execution_count": 28,
      "outputs": [
        {
          "output_type": "stream",
          "name": "stdout",
          "text": [
            "0.7852861035422344\n"
          ]
        },
        {
          "output_type": "stream",
          "name": "stderr",
          "text": [
            "/usr/local/lib/python3.7/dist-packages/sklearn/linear_model/_logistic.py:818: ConvergenceWarning: lbfgs failed to converge (status=1):\n",
            "STOP: TOTAL NO. of ITERATIONS REACHED LIMIT.\n",
            "\n",
            "Increase the number of iterations (max_iter) or scale the data as shown in:\n",
            "    https://scikit-learn.org/stable/modules/preprocessing.html\n",
            "Please also refer to the documentation for alternative solver options:\n",
            "    https://scikit-learn.org/stable/modules/linear_model.html#logistic-regression\n",
            "  extra_warning_msg=_LOGISTIC_SOLVER_CONVERGENCE_MSG,\n"
          ]
        }
      ]
    },
    {
      "cell_type": "markdown",
      "source": [
        "### Applying Random Forest Classifier algorithm onto the dataset "
      ],
      "metadata": {
        "id": "uM02ciHhKYQC"
      }
    },
    {
      "cell_type": "code",
      "source": [
        "from sklearn.model_selection import train_test_split\n",
        "X_train,X_test,Y_train,Y_test=train_test_split(X,Y,test_size=0.25,random_state=0)\n",
        "\n",
        "from sklearn.ensemble import RandomForestClassifier\n",
        "clf = RandomForestClassifier(max_depth=8, random_state=1)\n",
        "clf.fit(X_train, Y_train)\n",
        "print(clf.score(X_test,Y_test))"
      ],
      "metadata": {
        "colab": {
          "base_uri": "https://localhost:8080/"
        },
        "id": "_eAqb1rTidDo",
        "outputId": "fcd4532c-a57b-4c43-ce91-82e4f810d51f"
      },
      "execution_count": 29,
      "outputs": [
        {
          "output_type": "stream",
          "name": "stdout",
          "text": [
            "0.9790190735694823\n"
          ]
        }
      ]
    },
    {
      "cell_type": "markdown",
      "source": [
        "### Applying K Nearest Neighbor Classifiers model onto the dataset "
      ],
      "metadata": {
        "id": "hx6cLAWwKh04"
      }
    },
    {
      "cell_type": "code",
      "source": [
        "from sklearn.neighbors import KNeighborsClassifier\n",
        "neigh = KNeighborsClassifier(n_neighbors=2)\n",
        "neigh.fit(X_train, Y_train)\n",
        "neigh.score(X_test,Y_test)\n"
      ],
      "metadata": {
        "colab": {
          "base_uri": "https://localhost:8080/"
        },
        "id": "6rEHADIomW08",
        "outputId": "253c9949-d561-40f7-b5da-f001802ec993"
      },
      "execution_count": 14,
      "outputs": [
        {
          "output_type": "execute_result",
          "data": {
            "text/plain": [
              "0.9446866485013624"
            ]
          },
          "metadata": {},
          "execution_count": 14
        }
      ]
    },
    {
      "cell_type": "markdown",
      "source": [
        "### Applying Support Vector Machine model onto the dataset"
      ],
      "metadata": {
        "id": "q1vyjjVxK64h"
      }
    },
    {
      "cell_type": "code",
      "source": [
        "from sklearn.model_selection import train_test_split\n",
        "from sklearn import preprocessing\n",
        "X_train,X_test,Y_train,Y_test=train_test_split(X,Y,test_size=0.25,random_state=0)\n",
        "\n",
        "from sklearn.svm import SVC\n",
        "clf = make_pipeline(StandardScaler(), SVC(gamma='auto'))\n",
        "clf.fit(X_train, Y_train)\n",
        "print(clf.score(X_test,Y_test))"
      ],
      "metadata": {
        "colab": {
          "base_uri": "https://localhost:8080/"
        },
        "id": "JoxxFegeK47Z",
        "outputId": "802b8f05-221e-4980-8e1c-43e006690bc7"
      },
      "execution_count": 31,
      "outputs": [
        {
          "output_type": "stream",
          "name": "stdout",
          "text": [
            "0.964850136239782\n"
          ]
        }
      ]
    },
    {
      "cell_type": "code",
      "source": [
        "from sklearn.model_selection import train_test_split\n",
        "from sklearn.linear_model import LogisticRegression\n",
        "from sklearn.pipeline import make_pipeline\n",
        "from sklearn.preprocessing import StandardScaler\n",
        "\n",
        "from sklearn import preprocessing\n",
        "X_train,X_test,Y_train,Y_test=train_test_split(X,Y,test_size=0.25,random_state=0)\n",
        "quantile_transformer = preprocessing.QuantileTransformer(random_state=0)\n",
        "X_train_trans = quantile_transformer.fit_transform(X_train)\n",
        "X_test_trans = quantile_transformer.transform(X_test)\n",
        "\n",
        "\n",
        "pipe1 = make_pipeline(StandardScaler(), LogisticRegression())\n",
        "pipe1.fit(X_train_trans, Y_train)  # apply scaling on training data\n",
        "print('Logistic Regression Model Accuracy: ',pipe1.score(X_test_trans, Y_test)  )\n",
        "\n",
        "pipe2 = make_pipeline(StandardScaler(), KNeighborsClassifier(n_neighbors=2))\n",
        "pipe2.fit(X_train_trans, Y_train)  # apply scaling on training data\n",
        "print('KNeighborsClassifier Model Accuracy: ',pipe2.score(X_test_trans, Y_test) )\n",
        "\n",
        "pipe3 = make_pipeline(StandardScaler(), RandomForestClassifier(max_depth=8, random_state=0))\n",
        "pipe3.fit(X_train_trans, Y_train)  # apply scaling on training data\n",
        "print('RandomForestClassifier Model Accuracy:',pipe3.score(X_test_trans, Y_test) )\n",
        "\n",
        "\n",
        "from sklearn.svm import SVC\n",
        "clf = make_pipeline(StandardScaler(), SVC(gamma='scale'))\n",
        "clf.fit(X_train_trans, Y_train)\n",
        "print('Support Vector Machine Model Accuracy: ',clf.score(X_test_trans,Y_test))"
      ],
      "metadata": {
        "colab": {
          "base_uri": "https://localhost:8080/"
        },
        "id": "PhxbtgvHg9pA",
        "outputId": "0806f7d7-7205-434e-df10-cd425896b631"
      },
      "execution_count": 15,
      "outputs": [
        {
          "output_type": "stream",
          "name": "stdout",
          "text": [
            "Logistic Regression Model Accuracy:  0.8051771117166212\n",
            "KNeighborsClassifier Model Accuracy:  0.9629427792915531\n",
            "RandomForestClassifier Model Accuracy: 0.9784741144414169\n",
            "Support Vector Machine Model Accuracy:  0.9596730245231607\n"
          ]
        }
      ]
    },
    {
      "cell_type": "markdown",
      "source": [
        "## DEEP LEARNING ##"
      ],
      "metadata": {
        "id": "quGn_V2viAZA"
      }
    },
    {
      "cell_type": "code",
      "source": [
        "import tensorflow as tf\n",
        "from tensorflow import keras"
      ],
      "metadata": {
        "id": "fgIH-_dnbYnC"
      },
      "execution_count": 18,
      "outputs": []
    },
    {
      "cell_type": "code",
      "source": [
        "normalizer = tf.keras.layers.Normalization(axis=-1)"
      ],
      "metadata": {
        "id": "Br3O53QUlFSh"
      },
      "execution_count": 19,
      "outputs": []
    },
    {
      "cell_type": "code",
      "source": [
        "from keras.models import Sequential\n",
        "from keras.layers import Dense\n",
        "\n",
        "from keras.layers import BatchNormalization\n",
        "from keras.layers import Dropout\n",
        "\n",
        "model = Sequential()\n",
        "model.add(Dense(units=10,input_shape=(10,), activation=\"relu\"))\n",
        "model.add(Dense(units=6,activation='relu'))\n",
        "Dropout(0.5)\n",
        "BatchNormalization()\n",
        "model.add(Dense(units=6,activation='relu'))\n",
        "Dropout(0.5)\n",
        "BatchNormalization()\n",
        "model.add(Dense(units=3,activation='relu',kernel_regularizer=keras.regularizers.l2()))\n",
        "BatchNormalization()\n",
        "model.add(Dense(units=1, activation='sigmoid',kernel_regularizer=keras.regularizers.l2()))"
      ],
      "metadata": {
        "id": "cnSxcyVaiLZI"
      },
      "execution_count": 20,
      "outputs": []
    },
    {
      "cell_type": "code",
      "source": [
        "model.compile(keras.optimizers.Adam(learning_rate=0.05),loss=keras.losses.BinaryCrossentropy(),metrics=['accuracy'])"
      ],
      "metadata": {
        "id": "ojRHVxZyihri"
      },
      "execution_count": 21,
      "outputs": []
    },
    {
      "cell_type": "code",
      "source": [
        "model.fit(X_train, Y_train, epochs=2, batch_size=1,shuffle=True)"
      ],
      "metadata": {
        "colab": {
          "base_uri": "https://localhost:8080/"
        },
        "id": "JovHykY2imIx",
        "outputId": "d3308bf1-bcc8-4026-d775-1b10537aacc9"
      },
      "execution_count": 22,
      "outputs": [
        {
          "output_type": "stream",
          "name": "stdout",
          "text": [
            "Epoch 1/2\n",
            "11010/11010 [==============================] - 34s 3ms/step - loss: 0.5658 - accuracy: 0.7564\n",
            "Epoch 2/2\n",
            "11010/11010 [==============================] - 19s 2ms/step - loss: 0.5599 - accuracy: 0.7571\n"
          ]
        },
        {
          "output_type": "execute_result",
          "data": {
            "text/plain": [
              "<keras.callbacks.History at 0x7f231c6dded0>"
            ]
          },
          "metadata": {},
          "execution_count": 22
        }
      ]
    },
    {
      "cell_type": "code",
      "source": [
        "loss,accuracy=model.evaluate(X_train,Y_train)\n",
        "print('Loss:',loss)\n",
        "print('Accuracy:',accuracy)"
      ],
      "metadata": {
        "colab": {
          "base_uri": "https://localhost:8080/"
        },
        "id": "BIawC22njeQK",
        "outputId": "81cbfc19-b63f-4d52-dd6b-99260606529f"
      },
      "execution_count": 23,
      "outputs": [
        {
          "output_type": "stream",
          "name": "stdout",
          "text": [
            "345/345 [==============================] - 1s 2ms/step - loss: 0.5588 - accuracy: 0.7571\n",
            "Loss: 0.558794379234314\n",
            "Accuracy: 0.7571299076080322\n"
          ]
        }
      ]
    },
    {
      "cell_type": "code",
      "source": [
        "print(\"Evaluate on test data\")\n",
        "results = model.evaluate(X_test, Y_test, batch_size=128)\n",
        "print(\"test loss, test acc:\", results)"
      ],
      "metadata": {
        "colab": {
          "base_uri": "https://localhost:8080/"
        },
        "id": "fURu2JQoi39k",
        "outputId": "1b312e81-2f3c-46d6-cf04-65608477ad75"
      },
      "execution_count": 24,
      "outputs": [
        {
          "output_type": "stream",
          "name": "stdout",
          "text": [
            "Evaluate on test data\n",
            "29/29 [==============================] - 0s 2ms/step - loss: 0.5554 - accuracy: 0.7608\n",
            "test loss, test acc: [0.5554463863372803, 0.7607629299163818]\n"
          ]
        }
      ]
    },
    {
      "cell_type": "code",
      "source": [
        ""
      ],
      "metadata": {
        "id": "abfTlXINjgtL"
      },
      "execution_count": null,
      "outputs": []
    }
  ]
}